{
 "cells": [
  {
   "cell_type": "markdown",
   "metadata": {},
   "source": [
    "Write a Python program to convert kilometers to miles?"
   ]
  },
  {
   "cell_type": "code",
   "execution_count": 1,
   "metadata": {},
   "outputs": [
    {
     "name": "stdout",
     "output_type": "stream",
     "text": [
      "Enter the kilomer to convert into miles20\n",
      "20.00 kilometers is equal to 12.43 miles\n"
     ]
    }
   ],
   "source": [
    "#Accecpt the kilometer value from user\n",
    "kilometer=float(input(\"Enter the kilomer to convert into miles\"))\n",
    "conv_factor=0.621371\n",
    "#converting Km to miles\n",
    "miles=kilometer*conv_factor\n",
    "#Print the converation value\n",
    "print('%0.2f kilometers is equal to %0.2f miles' %(kilometer,miles))"
   ]
  },
  {
   "cell_type": "markdown",
   "metadata": {},
   "source": [
    "Write a Python program to convert Celsius to Fahrenheit?"
   ]
  },
  {
   "cell_type": "code",
   "execution_count": 2,
   "metadata": {},
   "outputs": [
    {
     "name": "stdout",
     "output_type": "stream",
     "text": [
      "Enter the Celsius vlaue30\n",
      "30.00 Celsius is equal to 86.00 Fahrenheit\n"
     ]
    }
   ],
   "source": [
    "#Accecepting Celsius value from user\n",
    "Celsius = float(input(\"Enter the Celsius vlaue\"))\n",
    "#Converting \n",
    "Fahrenheit = (Celsius*1.8)+32\n",
    "#Display\n",
    "print('%0.2f Celsius is equal to %0.2f Fahrenheit' %(Celsius,Fahrenheit))"
   ]
  },
  {
   "cell_type": "markdown",
   "metadata": {},
   "source": [
    "Write a Python program to display calendar?"
   ]
  },
  {
   "cell_type": "code",
   "execution_count": 3,
   "metadata": {},
   "outputs": [
    {
     "name": "stdout",
     "output_type": "stream",
     "text": [
      "Enter the Year: 2022\n",
      "Enter the month8\n",
      "    August 2022\n",
      "Mo Tu We Th Fr Sa Su\n",
      " 1  2  3  4  5  6  7\n",
      " 8  9 10 11 12 13 14\n",
      "15 16 17 18 19 20 21\n",
      "22 23 24 25 26 27 28\n",
      "29 30 31\n",
      "\n"
     ]
    }
   ],
   "source": [
    "import calendar\n",
    "# accepting input frome users\n",
    "yy=int(input(\"Enter the Year: \"))\n",
    "mm=int(input(\"Enter the month\"))\n",
    "\n",
    "#Dispaly Calendar\n",
    "print(calendar.month(yy,mm))"
   ]
  },
  {
   "cell_type": "code",
   "execution_count": null,
   "metadata": {},
   "outputs": [],
   "source": [
    "Write a Python program to solve quadratic equation?"
   ]
  },
  {
   "cell_type": "code",
   "execution_count": 5,
   "metadata": {},
   "outputs": [
    {
     "name": "stdout",
     "output_type": "stream",
     "text": [
      "The solution are (-3+0j) and (-2+0j)\n"
     ]
    }
   ],
   "source": [
    "import cmath\n",
    "a=1\n",
    "b=5\n",
    "c=6\n",
    "\n",
    "# Calculate the discriminant\n",
    "d=(b**2)-(4*a*c)\n",
    "\n",
    "#find two solutions\n",
    "sol1 = (-b-cmath.sqrt(d))/(2*a)\n",
    "sol2 = (-b+cmath.sqrt(d))/(2*a)\n",
    "\n",
    "print('The solution are {0} and {1}'.format(sol1,sol2))\n"
   ]
  },
  {
   "cell_type": "markdown",
   "metadata": {},
   "source": [
    "Write a Python program to swap two variables without temp variable?"
   ]
  },
  {
   "cell_type": "code",
   "execution_count": 6,
   "metadata": {},
   "outputs": [
    {
     "name": "stdout",
     "output_type": "stream",
     "text": [
      "befor swaping variable values a=hello & b=word\n",
      "after swaping variable values a=word & b=hello\n"
     ]
    }
   ],
   "source": [
    "#initial varibale value\n",
    "a='hello'\n",
    "b='word'\n",
    "\n",
    "print('befor swaping variable values a={0} & b={1}'.format(a,b))\n",
    "#swaping\n",
    "a,b=b,a\n",
    "print('after swaping variable values a={0} & b={1}'.format(a,b))\n"
   ]
  },
  {
   "cell_type": "code",
   "execution_count": null,
   "metadata": {},
   "outputs": [],
   "source": []
  }
 ],
 "metadata": {
  "kernelspec": {
   "display_name": "Python 3",
   "language": "python",
   "name": "python3"
  },
  "language_info": {
   "codemirror_mode": {
    "name": "ipython",
    "version": 3
   },
   "file_extension": ".py",
   "mimetype": "text/x-python",
   "name": "python",
   "nbconvert_exporter": "python",
   "pygments_lexer": "ipython3",
   "version": "3.8.3"
  }
 },
 "nbformat": 4,
 "nbformat_minor": 4
}
