{
 "cells": [
  {
   "cell_type": "markdown",
   "metadata": {},
   "source": [
    "1. Write a Python Program to Find LCM?"
   ]
  },
  {
   "cell_type": "code",
   "execution_count": null,
   "metadata": {},
   "outputs": [],
   "source": [
    "x=int(input(\"Enter the 1st value for LCM: \"))\n",
    "y=int(input(\"Enter the 2nd value for LCM: \"))\n",
    "if x>y:\n",
    "    greater = x\n",
    "else:\n",
    "    greater= y \n",
    "\n",
    "while(True):\n",
    "    if((greater % x==0) and (greater % y ==0)):\n",
    "        lcm=greater\n",
    "        break\n",
    "    greater +=1\n",
    "print(lcm)"
   ]
  },
  {
   "cell_type": "markdown",
   "metadata": {},
   "source": [
    "2. Write a Python Program to Find HCF?"
   ]
  },
  {
   "cell_type": "code",
   "execution_count": null,
   "metadata": {},
   "outputs": [],
   "source": [
    "x=int(input(\"Enter the 1st value for HCF: \"))\n",
    "y=int(input(\"Enter the 2nd value for HCF: \"))\n",
    "if x>y:\n",
    "    smaller=y\n",
    "else:\n",
    "    smaller=x\n",
    "for i in range(1,smaller+1):\n",
    "    if((x%i == 0) and (y%i == 0)):\n",
    "        hcf=i\n",
    "print(hcf)"
   ]
  },
  {
   "cell_type": "markdown",
   "metadata": {},
   "source": [
    "3. Write a Python Program to Convert Decimal to Binary, Octal and Hexadecimal?"
   ]
  },
  {
   "cell_type": "code",
   "execution_count": null,
   "metadata": {},
   "outputs": [],
   "source": [
    "num=int(input(\"Enter the no to convert\"))\n",
    "\n",
    "print(\"The decimal value of\",num,\"is\")\n",
    "print(bin(num),\"in binary\")\n",
    "print(oct(num),\"in octal\")\n",
    "print(hex(num),\"in hexadecimal\")"
   ]
  },
  {
   "cell_type": "markdown",
   "metadata": {},
   "source": [
    "4. Write a Python Program To Find ASCII value of a character?"
   ]
  },
  {
   "cell_type": "code",
   "execution_count": null,
   "metadata": {},
   "outputs": [],
   "source": [
    "ch=input(\"Enter the Character\")\n",
    "print(\"The ASCII Value of the\",ch,\"is\",ord(ch))"
   ]
  },
  {
   "cell_type": "markdown",
   "metadata": {},
   "source": [
    "5. Write a Python Program to Make a Simple Calculator with 4 basic mathematical operations?"
   ]
  },
  {
   "cell_type": "code",
   "execution_count": 2,
   "metadata": {},
   "outputs": [
    {
     "name": "stdout",
     "output_type": "stream",
     "text": [
      "Select operation.\n",
      "1.Add\n",
      "2.Subtract\n",
      "3.Multiply\n",
      "4.Divide\n",
      "Enter choice (1/2/3/4)1\n",
      "Enter the 1st no20\n",
      "Enter the 2nd no35\n",
      "20.0 + 35.0 = 55.0\n",
      "Let's do next calculation? (yes/no): yes\n",
      "Enter choice (1/2/3/4)2\n",
      "Enter the 1st no44\n",
      "Enter the 2nd no10\n",
      "44.0 - 10.0 = 34.0\n",
      "Let's do next calculation? (yes/no): no\n"
     ]
    }
   ],
   "source": [
    "#Dfine the Function \n",
    "def add(x,y):\n",
    "    return x+y\n",
    "\n",
    "def minus(x,y):\n",
    "    return x-y\n",
    "\n",
    "def multi(x,y):\n",
    "    return x*y\n",
    "def dev(x,y):\n",
    "    return x/y\n",
    "\n",
    "print(\"Select operation.\")\n",
    "print(\"1.Add\")\n",
    "print(\"2.Subtract\")\n",
    "print(\"3.Multiply\")\n",
    "print(\"4.Divide\")\n",
    "\n",
    "while True:\n",
    "    choice=input(\"Enter choice (1/2/3/4)\")\n",
    "    \n",
    "    if choice in ('1','2','3','4'):\n",
    "        num1=float(input(\"Enter the 1st no\"))\n",
    "        num2=float(input(\"Enter the 2nd no\"))\n",
    "        \n",
    "        if choice =='1':\n",
    "            print( num1, \"+\", num2,\"=\", add(num1,num2))\n",
    "\n",
    "        elif choice =='2':\n",
    "            print( num1, \"-\", num2,\"=\", minus(num1,num2))\n",
    "\n",
    "        elif choice =='3':\n",
    "            print( num1, \"*\", num2,\"=\", multi(num1,num2))\n",
    "\n",
    "        elif choice =='4':\n",
    "            print( num1, \"/\", num2,\"=\", dev(num1,num2))\n",
    "\n",
    "        next_cal=input(\"Let's do next calculation? (yes/no): \")\n",
    "        if next_cal ==\"no\":\n",
    "            break\n",
    "           \n",
    "\n",
    "    else:\n",
    "        print(\"Invalid Input\")\n",
    "\n",
    "        \n",
    "        \n",
    "        \n",
    "    \n",
    "\n"
   ]
  },
  {
   "cell_type": "code",
   "execution_count": null,
   "metadata": {},
   "outputs": [],
   "source": []
  }
 ],
 "metadata": {
  "kernelspec": {
   "display_name": "Python 3",
   "language": "python",
   "name": "python3"
  },
  "language_info": {
   "codemirror_mode": {
    "name": "ipython",
    "version": 3
   },
   "file_extension": ".py",
   "mimetype": "text/x-python",
   "name": "python",
   "nbconvert_exporter": "python",
   "pygments_lexer": "ipython3",
   "version": "3.8.3"
  }
 },
 "nbformat": 4,
 "nbformat_minor": 4
}
